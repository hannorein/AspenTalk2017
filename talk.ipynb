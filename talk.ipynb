{
 "cells": [
  {
   "cell_type": "markdown",
   "metadata": {
    "deletable": true,
    "editable": true,
    "slideshow": {
     "slide_type": "slide"
    }
   },
   "source": [
    "\n",
    "# Exploring Long-term Stability of Planetary Systems with New Numerical Tools\n",
    "\n",
    "Hanno Rein<br/>\n",
    "Daniel Tamayo \n",
    "\n",
    "*University of Toronto at Scarborough*"
   ]
  },
  {
   "cell_type": "markdown",
   "metadata": {
    "deletable": true,
    "editable": true,
    "slideshow": {
     "slide_type": "slide"
    }
   },
   "source": [
    "1. Long-term simulations of the Solar System\n",
    "2. Reproducible sience with the SimulationArchive\n",
    "3. Truly time symmetric integrators with JANUS"
   ]
  },
  {
   "cell_type": "code",
   "execution_count": null,
   "metadata": {
    "collapsed": true,
    "deletable": true,
    "editable": true,
    "slideshow": {
     "slide_type": "slide"
    }
   },
   "outputs": [],
   "source": [
    "import rebound\n",
    "\n",
    "import numpy as np\n",
    "%matplotlib inline\n",
    "import matplotlib.pyplot as plt\n",
    "\n",
    "import ipywidgets\n",
    "import warnings; warnings.filterwarnings(\"ignore\")\n",
    "from ctypes import pointer\n",
    "from IPython.display import display"
   ]
  },
  {
   "cell_type": "markdown",
   "metadata": {},
   "source": [
    "Download data for two simulations (one stable, one unstable) from zenodo:"
   ]
  },
  {
   "cell_type": "code",
   "execution_count": null,
   "metadata": {
    "collapsed": true
   },
   "outputs": [],
   "source": [
    "import urllib.request\n",
    "for file in [\"restart_0052.bin\",\"restart_0124.bin\"]:\n",
    "    urllib.request.urlretrieve('https://zenodo.org/record/291988/files/'+file, file);"
   ]
  },
  {
   "cell_type": "markdown",
   "metadata": {
    "deletable": true,
    "editable": true,
    "slideshow": {
     "slide_type": "slide"
    }
   },
   "source": [
    "### Solar System \n",
    "* Only possible approach: perturbation theory\n",
    "* In low order, leads to stability\n",
    "* First direct numerical simulations by Laskar & Gastineau (Nature 2009)\n",
    "* Need  $\\sim10^{12}$ timesteps, good integrator"
   ]
  },
  {
   "cell_type": "markdown",
   "metadata": {
    "deletable": true,
    "editable": true,
    "slideshow": {
     "slide_type": "slide"
    }
   },
   "source": [
    "* Each integration only a random sample\n",
    "* Statistical analysis needed\n",
    "* Solar System is only marginally stable\n",
    "* Large eccentricity of Mercury possible\n",
    "* 1% of simulations lead to collisional trajectories"
   ]
  },
  {
   "cell_type": "code",
   "execution_count": null,
   "metadata": {
    "collapsed": false,
    "deletable": true,
    "editable": true,
    "slideshow": {
     "slide_type": "slide"
    }
   },
   "outputs": [],
   "source": [
    "sa = rebound.SimulationArchive(\"restart_0124.bin\")\n",
    "w = sa[0].getWidget(size=(500,250),scale=3.)\n",
    "display(w)\n",
    "times = np.linspace(2*np.pi*7.5e9,2.*np.pi*7.740e9,5000)\n",
    "for t in times:\n",
    "    sim = sa.getSimulation(t)\n",
    "    w.refresh(pointer(sim))"
   ]
  },
  {
   "cell_type": "markdown",
   "metadata": {
    "deletable": true,
    "editable": true,
    "slideshow": {
     "slide_type": "slide"
    }
   },
   "source": [
    "# Reproducible science with the SimulationArchive\n",
    "Rein & Tamayo 2017, arxiv:1701.07423"
   ]
  },
  {
   "cell_type": "markdown",
   "metadata": {
    "deletable": true,
    "editable": true,
    "slideshow": {
     "slide_type": "slide"
    }
   },
   "source": [
    "Integrations of the Solar System are expensive. Take months to run. Need hundreds of realizations.\n",
    "*** We want:***\n",
    "* Share not only results, but also methods and data\n",
    "* Open source, open science\n",
    "* Reproducible experiment"
   ]
  },
  {
   "cell_type": "markdown",
   "metadata": {
    "deletable": true,
    "editable": true,
    "slideshow": {
     "slide_type": "slide"
    }
   },
   "source": [
    "Reproducible simulations have so far been impossible. ***Issues:***\n",
    "* Source code/initial conditions not available\n",
    "* System is chaotic, sensitive to floating point round-off at $10^{-16}$, need to reproduce everything bit-by-bit\n",
    "* Initial conditions only available in ASCII table"
   ]
  },
  {
   "cell_type": "markdown",
   "metadata": {
    "deletable": true,
    "editable": true,
    "slideshow": {
     "slide_type": "slide"
    }
   },
   "source": [
    "Most (all?) public integrators are not machine independent!\n",
    "\n",
    "* Ordering of operation \n",
    "  $$(x+y)+z\\neq x+(y+z)$$\n",
    "* Math functions \n",
    "  $$\\sin_{\\rm gcc}(x)\\neq\\sin_{\\rm clang}(x)$$"
   ]
  },
  {
   "cell_type": "markdown",
   "metadata": {
    "deletable": true,
    "editable": true,
    "slideshow": {
     "slide_type": "slide"
    }
   },
   "source": [
    "* We ran hundreds of simulations of the Solar System\n",
    "  * 10 Gyr, 6 day timestep\n",
    "  * all planets, general relativistic corrections\n",
    "* We use \n",
    "   * Open source code REBOUND\n",
    "   * symplectic WHFast integrator, machine independent, high order symplectic correctors\n",
    "   * Simulation Archive\n",
    "* Archives are publicly available for everyone to explore doi:10.5281/zenodo.291988"
   ]
  },
  {
   "cell_type": "code",
   "execution_count": null,
   "metadata": {
    "collapsed": false,
    "deletable": true,
    "editable": true,
    "slideshow": {
     "slide_type": "slide"
    }
   },
   "outputs": [],
   "source": [
    "file = \"restart_0052.bin\""
   ]
  },
  {
   "cell_type": "code",
   "execution_count": null,
   "metadata": {
    "collapsed": false,
    "deletable": true,
    "editable": true,
    "slideshow": {
     "slide_type": "-"
    }
   },
   "outputs": [],
   "source": [
    "sa = rebound.SimulationArchive(file)\n",
    "print(sa)"
   ]
  },
  {
   "cell_type": "code",
   "execution_count": null,
   "metadata": {
    "collapsed": false,
    "deletable": true,
    "editable": true,
    "slideshow": {
     "slide_type": "slide"
    }
   },
   "outputs": [],
   "source": [
    "sim = sa.getSimulation(t=0.)\n",
    "sim.getWidget(size=(500,250))"
   ]
  },
  {
   "cell_type": "code",
   "execution_count": null,
   "metadata": {
    "collapsed": false,
    "deletable": true,
    "editable": true,
    "slideshow": {
     "slide_type": "-"
    }
   },
   "outputs": [],
   "source": [
    "sim.integrate(5e4*2*np.pi)   # takes a few seconds\n",
    "#sim.integrate(1e10*2*np.pi) # takes a few months"
   ]
  },
  {
   "cell_type": "code",
   "execution_count": null,
   "metadata": {
    "collapsed": false,
    "deletable": true,
    "editable": true,
    "slideshow": {
     "slide_type": "slide"
    }
   },
   "outputs": [],
   "source": [
    "times = np.linspace(0,sa.tmax,1000)\n",
    "ecc   = np.zeros(1000)\n",
    "for i in range(1000):\n",
    "    sim = sa.getSimulation(times[i])\n",
    "    ecc[i] = sim.particles[3].a\n",
    "    \n",
    "f, ax = plt.subplots()\n",
    "ax.set_xlabel(\"time (yrs)\"); ax.set_ylabel(\"eccentricity\")\n",
    "ax.plot(times/2/np.pi,ecc);"
   ]
  },
  {
   "cell_type": "code",
   "execution_count": null,
   "metadata": {
    "collapsed": false,
    "deletable": true,
    "editable": true,
    "slideshow": {
     "slide_type": "slide"
    }
   },
   "outputs": [],
   "source": [
    "energy = np.zeros(1000)\n",
    "for i in range(1000):\n",
    "    sim = sa.getSimulation(times[i])\n",
    "    energy[i] = sim.calculate_energy()\n",
    "\n",
    "f, ax = plt.subplots()\n",
    "ax.set_yscale(\"log\"); ax.set_xlabel(\"time (yrs)\"); ax.set_ylabel(\"relative energy error\")\n",
    "ax.plot(times/2/np.pi,np.abs((energy-energy[0])/energy[0]));"
   ]
  },
  {
   "cell_type": "code",
   "execution_count": null,
   "metadata": {
    "collapsed": false,
    "deletable": true,
    "editable": true,
    "slideshow": {
     "slide_type": "slide"
    }
   },
   "outputs": [],
   "source": [
    "w = sa[0].getWidget(size=(500,250))\n",
    "display(w)"
   ]
  },
  {
   "cell_type": "code",
   "execution_count": null,
   "metadata": {
    "collapsed": false,
    "deletable": true,
    "editable": true
   },
   "outputs": [],
   "source": [
    "for t in np.linspace(sa.tmin,sa.tmax,1000):\n",
    "    sim = sa.getSimulation(t)\n",
    "    w.refresh(pointer(sim))"
   ]
  },
  {
   "cell_type": "code",
   "execution_count": null,
   "metadata": {
    "collapsed": false,
    "deletable": true,
    "editable": true,
    "slideshow": {
     "slide_type": "slide"
    }
   },
   "outputs": [],
   "source": [
    "sa.getSimulation(6e9).t"
   ]
  },
  {
   "cell_type": "code",
   "execution_count": null,
   "metadata": {
    "collapsed": false,
    "deletable": true,
    "editable": true,
    "slideshow": {
     "slide_type": "-"
    }
   },
   "outputs": [],
   "source": [
    "sa.getSimulation(6e9,mode=\"exact\").t"
   ]
  },
  {
   "cell_type": "markdown",
   "metadata": {
    "deletable": true,
    "editable": true,
    "slideshow": {
     "slide_type": "slide"
    }
   },
   "source": [
    "### Advantages when using the SimulationArchive\n",
    "* Reproducible simulations\n",
    "* Machine independent\n",
    "* Easy sharing of long simulations across the community"
   ]
  },
  {
   "cell_type": "markdown",
   "metadata": {
    "deletable": true,
    "editable": true,
    "slideshow": {
     "slide_type": "slide"
    }
   },
   "source": [
    "### Revolutionizing the way simulations are analyzed\n",
    "* Can access any data at any time instantaneously/within seconds.\n",
    "* Data is exact. Bit-by-bit. No interpolation or rounding.\n",
    "* Never have to worry anymore about which data to output at which cadence!"
   ]
  },
  {
   "cell_type": "markdown",
   "metadata": {
    "deletable": true,
    "editable": true,
    "slideshow": {
     "slide_type": "slide"
    }
   },
   "source": [
    "### Secular resonances in the Solar System\n",
    "Rein+ (2017, in prep)\n",
    "<img src=\"resonant.png\" width=\"60%\"/>\n"
   ]
  },
  {
   "cell_type": "markdown",
   "metadata": {
    "deletable": true,
    "editable": true,
    "slideshow": {
     "slide_type": "slide"
    }
   },
   "source": [
    "### Instability due to Mercury-Jupiter resonance\n",
    "Rein+ (2017, in prep)\n",
    "<img src=\"mercuryjupiter.png\" width=\"60%\"/>\n",
    "\n"
   ]
  },
  {
   "cell_type": "markdown",
   "metadata": {
    "deletable": true,
    "editable": true,
    "slideshow": {
     "slide_type": "slide"
    }
   },
   "source": [
    "# Time reversibility\n",
    "* Hamiltonian systems are time symmetric.\n",
    "* Yet all of the integrators used for planetary dynamics are not!"
   ]
  },
  {
   "cell_type": "code",
   "execution_count": null,
   "metadata": {
    "collapsed": false,
    "deletable": true,
    "editable": true,
    "slideshow": {
     "slide_type": "slide"
    }
   },
   "outputs": [],
   "source": [
    "sim = rebound.Simulation()\n",
    "sim.add(m=1)\n",
    "for i in range(10):\n",
    "    sim.add(m=1e-3, a=1+0.1*i,l=i, inc=0.01*i)\n",
    "sim.move_to_com()\n",
    "sim.integrator = \"whfast\"\n",
    "sim.getWidget(scale=3, size=(500,200))"
   ]
  },
  {
   "cell_type": "code",
   "execution_count": null,
   "metadata": {
    "collapsed": false,
    "deletable": true,
    "editable": true
   },
   "outputs": [],
   "source": [
    "sim.dt = 0.01  # forward\n",
    "sim.integrate(200,exact_finish_time=0)"
   ]
  },
  {
   "cell_type": "code",
   "execution_count": null,
   "metadata": {
    "collapsed": true,
    "deletable": true,
    "editable": true
   },
   "outputs": [],
   "source": [
    "sim.dt = -0.01 # backward\n",
    "sim.integrate(0,exact_finish_time=0)"
   ]
  },
  {
   "cell_type": "markdown",
   "metadata": {
    "deletable": true,
    "editable": true,
    "slideshow": {
     "slide_type": "slide"
    }
   },
   "source": [
    "# JANUS\n",
    "\n",
    "<img src=\"janus.jpg\">"
   ]
  },
  {
   "cell_type": "markdown",
   "metadata": {
    "deletable": true,
    "editable": true,
    "slideshow": {
     "slide_type": "slide"
    }
   },
   "source": [
    "* Truly bit-wise reversible integrator\n",
    "* Symplectic\n",
    "* Order 2, 4, 6, 8 or 10\n",
    "* Integrated in REBOUND\n",
    "* Paper in preparation"
   ]
  },
  {
   "cell_type": "code",
   "execution_count": null,
   "metadata": {
    "collapsed": false,
    "deletable": true,
    "editable": true,
    "slideshow": {
     "slide_type": "slide"
    }
   },
   "outputs": [],
   "source": [
    "sim = rebound.Simulation()\n",
    "sim.add(m=1)\n",
    "for i in range(10): sim.add(m=1e-3, a=1+0.1*i,l=i, inc=0.01*i)\n",
    "sim.move_to_com()\n",
    "sim.integrator = \"janus\"\n",
    "sim.getWidget(scale=3, size=(500,200))"
   ]
  },
  {
   "cell_type": "code",
   "execution_count": null,
   "metadata": {
    "collapsed": true,
    "deletable": true,
    "editable": true
   },
   "outputs": [],
   "source": [
    "sim.dt = 0.01  # forward\n",
    "sim.integrate(200,exact_finish_time=0)"
   ]
  },
  {
   "cell_type": "code",
   "execution_count": null,
   "metadata": {
    "collapsed": true,
    "deletable": true,
    "editable": true
   },
   "outputs": [],
   "source": [
    "sim.dt = -0.01 # backward\n",
    "sim.integrate(0,exact_finish_time=0)"
   ]
  },
  {
   "cell_type": "code",
   "execution_count": null,
   "metadata": {
    "collapsed": false,
    "deletable": true,
    "editable": true,
    "slideshow": {
     "slide_type": "slide"
    }
   },
   "outputs": [],
   "source": [
    "sim = rebound.Simulation()\n",
    "sim.add(m=1)\n",
    "for i in range(10): sim.add(m=1e-3, a=1+0.1*i,l=i, inc=0.01*i)\n",
    "sim.move_to_com()\n",
    "sim.integrator = \"janus\"\n",
    "sim.getWidget(scale=3, size=(500,200))"
   ]
  },
  {
   "cell_type": "code",
   "execution_count": null,
   "metadata": {
    "collapsed": false,
    "deletable": true,
    "editable": true
   },
   "outputs": [],
   "source": [
    "def f(t):\n",
    "    sim.dt = 0.01 if t>sim.t else -0.01\n",
    "    sim.integrate(t,exact_finish_time=0)    \n",
    "ipywidgets.interact(f,t=ipywidgets.widgets.FloatSlider(min=0,max=300,step=1,value=0));"
   ]
  },
  {
   "cell_type": "markdown",
   "metadata": {
    "collapsed": true,
    "deletable": true,
    "editable": true,
    "slideshow": {
     "slide_type": "slide"
    }
   },
   "source": [
    "# Summary\n",
    "* Statistical analysis of chaos in the Solar System\n",
    "* SimulationArchive helps with explorative data analysis \n",
    "* SimulationArchive enables fully reproducible simulations\n",
    "* JANUS, first truly time-symmetric N-body integrator<br /><br />\n",
    "\n",
    "# REBOUND\n",
    "* Modern open-source N-body package\n",
    "* IAS15, WHFast, WHFastHelio, JANUS\n",
    "* Variational equations, MEGNO\n",
    "* Easy to use C / Python interface\n",
    "* _Talk to me if you want to try out REBOUND!_"
   ]
  }
 ],
 "metadata": {
  "celltoolbar": "Slideshow",
  "kernelspec": {
   "display_name": "Python 3",
   "language": "python",
   "name": "python3"
  },
  "language_info": {
   "codemirror_mode": {
    "name": "ipython",
    "version": 3
   },
   "file_extension": ".py",
   "mimetype": "text/x-python",
   "name": "python",
   "nbconvert_exporter": "python",
   "pygments_lexer": "ipython3",
   "version": "3.5.2"
  }
 },
 "nbformat": 4,
 "nbformat_minor": 2
}
